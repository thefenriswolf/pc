{
  "nbformat": 4,
  "nbformat_minor": 0,
  "metadata": {
    "colab": {
      "name": "FutureLab.ipynb",
      "provenance": [],
      "collapsed_sections": [],
      "toc_visible": true,
      "authorship_tag": "ABX9TyOoxwDx1FhpSB62bwObFxny",
      "include_colab_link": true
    },
    "kernelspec": {
      "name": "python3",
      "display_name": "Python 3"
    },
    "accelerator": "GPU"
  },
  "cells": [
    {
      "cell_type": "markdown",
      "metadata": {
        "id": "view-in-github",
        "colab_type": "text"
      },
      "source": [
        "<a href=\"https://colab.research.google.com/github/thefenriswolf/FutureLab/blob/main/FutureLab.ipynb\" target=\"_parent\"><img src=\"https://colab.research.google.com/assets/colab-badge.svg\" alt=\"Open In Colab\"/></a>"
      ]
    },
    {
      "cell_type": "markdown",
      "metadata": {
        "id": "V5wQgFR6oO1j"
      },
      "source": [
        "# Libary Imports\n",
        "\n",
        "In this field, we import all the pieces of software we are going to use.\n",
        "\n",
        "**This code MUST be run be run before anything else!!!**"
      ]
    },
    {
      "cell_type": "code",
      "metadata": {
        "colab": {
          "base_uri": "https://localhost:8080/"
        },
        "id": "f9ORC-A9Ruhk",
        "cellView": "code",
        "outputId": "93a2563f-b09d-405a-9d64-24bc30a7f93d"
      },
      "source": [
        "%tensorflow_version 2.x \n",
        "import tensorflow as tf\n",
        "from tensorflow.keras.models import Sequential\n",
        "from tensorflow.keras.callbacks import EarlyStopping\n",
        "from tensorflow.keras import layers\n",
        "from tensorflow.keras.layers.experimental import preprocessing\n",
        "import pandas as pd\n",
        "import numpy as np\n",
        "import matplotlib.pyplot as plt\n",
        "\n",
        "# check for active GPU\n",
        "print(tf.test.gpu_device_name())\n",
        "print(tf.__version__)"
      ],
      "execution_count": 1,
      "outputs": [
        {
          "output_type": "stream",
          "text": [
            "/device:GPU:0\n",
            "2.5.0\n"
          ],
          "name": "stdout"
        }
      ]
    },
    {
      "cell_type": "markdown",
      "metadata": {
        "id": "mM67CyFcjPMY"
      },
      "source": [
        "# Activation Functions"
      ]
    },
    {
      "cell_type": "code",
      "metadata": {
        "id": "HVpca30djY7q"
      },
      "source": [
        "# rectified linear function\n",
        "def relu(x):\n",
        "  if x > 0:\n",
        "    return x\n",
        "  else: return 0\n",
        "\n",
        "def relu6(x):\n",
        "  if x > 6:\n",
        "    return 6\n",
        "  elif x > 0:\n",
        "    return x\n",
        "  else: return 0\n",
        "\n",
        "def sigmoid(x):\n",
        "  return 1/(1+np.exp(x*(-1)))"
      ],
      "execution_count": null,
      "outputs": []
    },
    {
      "cell_type": "markdown",
      "metadata": {
        "id": "c9_9C8z7kqvP"
      },
      "source": [
        "##### Task 1:\n",
        "Use the code **below** to plot the activation functions defined **above**"
      ]
    },
    {
      "cell_type": "code",
      "metadata": {
        "colab": {
          "base_uri": "https://localhost:8080/",
          "height": 265
        },
        "id": "ORNN-qJ0kSLy",
        "outputId": "53e21ec7-10b3-4828-b274-e5c0f7eaf9f4"
      },
      "source": [
        "# define a series of inputs\n",
        "series_in = [x for x in range(-10, 11)]\n",
        "\n",
        "# calculate outputs for our inputs\n",
        "series_out = [relu6(x) for x in series_in] # <-- Name of activation funtction goes here\n",
        "\n",
        "# line plot of raw inputs to rectified outputs\n",
        "plt.plot(series_in, series_out)\n",
        "plt.show()"
      ],
      "execution_count": null,
      "outputs": [
        {
          "output_type": "display_data",
          "data": {
            "image/png": "[encoded data removed]",
            "text/plain": [
              "<Figure size 432x288 with 1 Axes>"
            ]
          },
          "metadata": {
            "tags": [],
            "needs_background": "light"
          }
        }
      ]
    },
    {
      "cell_type": "markdown",
      "metadata": {
        "id": "a10z8_vkzcfr"
      },
      "source": [
        "# Regression\n"
      ]
    },
    {
      "cell_type": "markdown",
      "metadata": {
        "id": "0UpOudHhoU-I"
      },
      "source": [
        "## Manual regression\n",
        "\n",
        "Let's say we gathered some data:\n",
        "Body height and Ring size of a few people and we want to predict the Ring size by putting it in relation to someones body height.\n"
      ]
    },
    {
      "cell_type": "code",
      "metadata": {
        "colab": {
          "base_uri": "https://localhost:8080/",
          "height": 279
        },
        "id": "LYrl4YekzolA",
        "outputId": "873f570a-2e4b-4b5c-b09f-60a37c971324"
      },
      "source": [
        "data = np.array([\n",
        "    [150.0, 12.7],\n",
        "    [154.0, 13.0],\n",
        "    [161.0, 14.6],\n",
        "    [168.0, 15.6],\n",
        "    [170.0, 15.9],\n",
        "    [173.0, 16.2],\n",
        "    [175.0, np.nan],\n",
        "    [180, 17.5],\n",
        "    [184.0, 17.8],\n",
        "    [190, 18.1],\n",
        "])\n",
        "x, y = data.T\n",
        "plt.xlabel(\"Body height (cm)\")\n",
        "plt.ylabel(\"Ring size (mm)\")\n",
        "plt.plot(x,y)\n",
        "plt.show()"
      ],
      "execution_count": null,
      "outputs": [
        {
          "output_type": "display_data",
          "data": {
            "image/png": "[encoded data removed]",
            "text/plain": [
              "<Figure size 432x288 with 1 Axes>"
            ]
          },
          "metadata": {
            "tags": [],
            "needs_background": "light"
          }
        }
      ]
    },
    {
      "cell_type": "markdown",
      "metadata": {
        "id": "48WtJD-g2IaS"
      },
      "source": [
        "## Linear Interpolation\n",
        "\n",
        "We could of course just draw a straight line to complete the plot, but let's use a tiny bit of math first.\n",
        "To use linear interpolation we just need to know the x and y values of 2 points on a graph and we can interpolate a point in between.\n",
        "\n",
        "Formula: $$\\widehat{y(x)}=y_{i}+\\frac{(y_{i+1}-y_{i})(x-x_{i})}{x_{i+1}-x_{i}}$$"
      ]
    },
    {
      "cell_type": "code",
      "metadata": {
        "colab": {
          "base_uri": "https://localhost:8080/",
          "height": 296
        },
        "id": "sBgs2fhA4u2E",
        "outputId": "ab10ff5d-edd5-4638-dfa5-5d9048c61c5b"
      },
      "source": [
        "x_prev=173.0\n",
        "x_post=180\n",
        "y_prev=16.2\n",
        "y_post=17.5\n",
        "x_missing=175.0\n",
        "\n",
        "# lin_interpolation takes the x and y values of two points and the x value of a point in between those points.\n",
        "def lin_interpolation(x_prev, x_post, y_prev, y_post, x_missing):\n",
        " return y_prev + (((y_post-y_prev)*(x_missing-x_prev))/(x_post-x_prev))\n",
        "\n",
        "y_missing=lin_interpolation(x_prev, x_post, y_prev, y_post, x_missing)\n",
        "print(y_missing)\n",
        "\n",
        "data = np.array([\n",
        "    [150.0, 12.7],\n",
        "    [154.0, 13.0],\n",
        "    [161.0, 14.6],\n",
        "    [168.0, 15.6],\n",
        "    [170.0, 15.9],\n",
        "    [173.0, 16.2],\n",
        "    [175.0, y_missing],\n",
        "    [180, 17.5],\n",
        "    [184.0, 17.8],\n",
        "    [190, 18.1],\n",
        "])\n",
        "x, y = data.T\n",
        "plt.xlabel(\"Body height (cm)\")\n",
        "plt.ylabel(\"Ring size (mm)\")\n",
        "plt.plot(x,y)\n",
        "plt.show()"
      ],
      "execution_count": null,
      "outputs": [
        {
          "output_type": "stream",
          "text": [
            "16.57142857142857\n"
          ],
          "name": "stdout"
        },
        {
          "output_type": "display_data",
          "data": {
            "image/png": "[encoded data removed]",
            "text/plain": [
              "<Figure size 432x288 with 1 Axes>"
            ]
          },
          "metadata": {
            "tags": [],
            "needs_background": "light"
          }
        }
      ]
    },
    {
      "cell_type": "markdown",
      "metadata": {
        "id": "L5ayBfxYohNY"
      },
      "source": [
        "## ML Regression\n",
        "To use Machine Learning for Regression our data ought to be of a more complex nature and we need a larger sample size for it to work properly.\n",
        "\n",
        "The [publicly available dataset](https://doi.org/10.1016/j.dss.2009.05.016) we are going to use contains *11* physiochemical properties of *4897* wine samples and its perceived quality."
      ]
    },
    {
      "cell_type": "markdown",
      "metadata": {
        "id": "I4LZ3CXii78G"
      },
      "source": [
        "### Dataset import\n",
        "The first step is always to clean and import the data we are going to use.\n",
        "Our data comes as a ready to use CSV file (plaintext spreadsheet format) and requires very little cleanup."
      ]
    },
    {
      "cell_type": "code",
      "metadata": {
        "id": "WoxIfv7jPxvR",
        "colab": {
          "base_uri": "https://localhost:8080/",
          "height": 223
        },
        "outputId": "be0bfc9c-d96a-44ce-e896-59d36131f58a"
      },
      "source": [
        "# We'll pull our dataset from this study: https://www.sciencedirect.com/science/article/abs/pii/S0167923609001377?via%3Dihub\n",
        "url = 'https://archive.ics.uci.edu/ml/machine-learning-databases/wine-quality/winequality-white.csv'\n",
        "\n",
        "# The dataset comes with headers, but it's always a good idea to write them down for reference\n",
        "column_names = [\"fixed acidity\", \"volatile acidity\", \"citric acid\",\n",
        "                \"residual sugar\", \"chlorides\", \"free sulfur dioxide\", \"total sulfur dioxide\",\n",
        "                \"density\", \"pH\", \"sulphates\", \"alcohol\", \"quality\"]\n",
        "\n",
        "# We use pandas read_csv() Function to parse the file and convert it to a pandas dataframe\n",
        "raw_dataset = pd.read_csv(url, header='infer',\n",
        "                          sep=';', skipinitialspace=True)\n",
        "# url: dataset source\n",
        "# header='infer': autodetect first line as header\n",
        "# sep=';': values in the dataset are separated by a semicolon\n",
        "# skipinitialspace=True: ignore extra spaces if there are any\n",
        "\n",
        "# Let's take a look at out data and check if importing worked as expected\n",
        "# head(): shows the 'head' (first few lines) of any file or dataframe, the opposite of head is 'tail'\n",
        "#raw_dataset.head()\n",
        "raw_dataset.tail()"
      ],
      "execution_count": null,
      "outputs": [
        {
          "output_type": "execute_result",
          "data": {
            "text/html": [
              "<div>\n",
              "<style scoped>\n",
              "    .dataframe tbody tr th:only-of-type {\n",
              "        vertical-align: middle;\n",
              "    }\n",
              "\n",
              "    .dataframe tbody tr th {\n",
              "        vertical-align: top;\n",
              "    }\n",
              "\n",
              "    .dataframe thead th {\n",
              "        text-align: right;\n",
              "    }\n",
              "</style>\n",
              "<table border=\"1\" class=\"dataframe\">\n",
              "  <thead>\n",
              "    <tr style=\"text-align: right;\">\n",
              "      <th></th>\n",
              "      <th>fixed acidity</th>\n",
              "      <th>volatile acidity</th>\n",
              "      <th>citric acid</th>\n",
              "      <th>residual sugar</th>\n",
              "      <th>chlorides</th>\n",
              "      <th>free sulfur dioxide</th>\n",
              "      <th>total sulfur dioxide</th>\n",
              "      <th>density</th>\n",
              "      <th>pH</th>\n",
              "      <th>sulphates</th>\n",
              "      <th>alcohol</th>\n",
              "      <th>quality</th>\n",
              "    </tr>\n",
              "  </thead>\n",
              "  <tbody>\n",
              "    <tr>\n",
              "      <th>4893</th>\n",
              "      <td>6.2</td>\n",
              "      <td>0.21</td>\n",
              "      <td>0.29</td>\n",
              "      <td>1.6</td>\n",
              "      <td>0.039</td>\n",
              "      <td>24.0</td>\n",
              "      <td>92.0</td>\n",
              "      <td>0.99114</td>\n",
              "      <td>3.27</td>\n",
              "      <td>0.50</td>\n",
              "      <td>11.2</td>\n",
              "      <td>6</td>\n",
              "    </tr>\n",
              "    <tr>\n",
              "      <th>4894</th>\n",
              "      <td>6.6</td>\n",
              "      <td>0.32</td>\n",
              "      <td>0.36</td>\n",
              "      <td>8.0</td>\n",
              "      <td>0.047</td>\n",
              "      <td>57.0</td>\n",
              "      <td>168.0</td>\n",
              "      <td>0.99490</td>\n",
              "      <td>3.15</td>\n",
              "      <td>0.46</td>\n",
              "      <td>9.6</td>\n",
              "      <td>5</td>\n",
              "    </tr>\n",
              "    <tr>\n",
              "      <th>4895</th>\n",
              "      <td>6.5</td>\n",
              "      <td>0.24</td>\n",
              "      <td>0.19</td>\n",
              "      <td>1.2</td>\n",
              "      <td>0.041</td>\n",
              "      <td>30.0</td>\n",
              "      <td>111.0</td>\n",
              "      <td>0.99254</td>\n",
              "      <td>2.99</td>\n",
              "      <td>0.46</td>\n",
              "      <td>9.4</td>\n",
              "      <td>6</td>\n",
              "    </tr>\n",
              "    <tr>\n",
              "      <th>4896</th>\n",
              "      <td>5.5</td>\n",
              "      <td>0.29</td>\n",
              "      <td>0.30</td>\n",
              "      <td>1.1</td>\n",
              "      <td>0.022</td>\n",
              "      <td>20.0</td>\n",
              "      <td>110.0</td>\n",
              "      <td>0.98869</td>\n",
              "      <td>3.34</td>\n",
              "      <td>0.38</td>\n",
              "      <td>12.8</td>\n",
              "      <td>7</td>\n",
              "    </tr>\n",
              "    <tr>\n",
              "      <th>4897</th>\n",
              "      <td>6.0</td>\n",
              "      <td>0.21</td>\n",
              "      <td>0.38</td>\n",
              "      <td>0.8</td>\n",
              "      <td>0.020</td>\n",
              "      <td>22.0</td>\n",
              "      <td>98.0</td>\n",
              "      <td>0.98941</td>\n",
              "      <td>3.26</td>\n",
              "      <td>0.32</td>\n",
              "      <td>11.8</td>\n",
              "      <td>6</td>\n",
              "    </tr>\n",
              "  </tbody>\n",
              "</table>\n",
              "</div>"
            ],
            "text/plain": [
              "      fixed acidity  volatile acidity  citric acid  ...  sulphates  alcohol  quality\n",
              "4893            6.2              0.21         0.29  ...       0.50     11.2        6\n",
              "4894            6.6              0.32         0.36  ...       0.46      9.6        5\n",
              "4895            6.5              0.24         0.19  ...       0.46      9.4        6\n",
              "4896            5.5              0.29         0.30  ...       0.38     12.8        7\n",
              "4897            6.0              0.21         0.38  ...       0.32     11.8        6\n",
              "\n",
              "[5 rows x 12 columns]"
            ]
          },
          "metadata": {
            "tags": []
          },
          "execution_count": 5
        }
      ]
    },
    {
      "cell_type": "markdown",
      "metadata": {
        "id": "860tpPKBjXsz"
      },
      "source": [
        "#### Dataset sanity check\n",
        "\n",
        "We have a very clean dataset on our hands.\n",
        "Usually we'd have to spend considerable time cleaning up our dataset for proper use.\n",
        "**Always** check your dataset for missing values, inconsistencies and other irregularities, as it saves you lots of time later in the development process."
      ]
    },
    {
      "cell_type": "code",
      "metadata": {
        "colab": {
          "base_uri": "https://localhost:8080/"
        },
        "id": "aJq2nUnaOiAk",
        "outputId": "096fa347-7efd-4d0d-ff62-5773618d79c7"
      },
      "source": [
        "# Check for unknown values and sum them up\n",
        "raw_dataset.isna().sum()"
      ],
      "execution_count": null,
      "outputs": [
        {
          "output_type": "execute_result",
          "data": {
            "text/plain": [
              "fixed acidity           0\n",
              "volatile acidity        0\n",
              "citric acid             0\n",
              "residual sugar          0\n",
              "chlorides               0\n",
              "free sulfur dioxide     0\n",
              "total sulfur dioxide    0\n",
              "density                 0\n",
              "pH                      0\n",
              "sulphates               0\n",
              "alcohol                 0\n",
              "quality                 0\n",
              "dtype: int64"
            ]
          },
          "metadata": {
            "tags": []
          },
          "execution_count": 6
        }
      ]
    },
    {
      "cell_type": "markdown",
      "metadata": {
        "id": "zYfTPD0Njl0D"
      },
      "source": [
        "#### Dataset split\n",
        "\n",
        "We want most of our data for training the model and smaller amount for testing its capabilities.\n",
        "In this case we go for a 80:20 ratio.  "
      ]
    },
    {
      "cell_type": "code",
      "metadata": {
        "colab": {
          "base_uri": "https://localhost:8080/"
        },
        "id": "grFIYGE1P446",
        "outputId": "7579acd1-c008-4fdb-8284-ab63306cfa35"
      },
      "source": [
        "# Never modify your raw data, always create a copy to work on!\n",
        "wdataset = raw_dataset\n",
        "\n",
        "# Now let's split our dataset in a test and train dataset\n",
        "# We'll use the train dataset to (hopefully) teach our model.\n",
        "# The test dataset will be useful after training to validate that the training processes worked as expected.\n",
        "\n",
        "train_dataset = wdataset.sample(frac=0.8, random_state=0)\n",
        "# sample() takes n random items (80% in this case) from a list or sequence\n",
        "\n",
        "test_dataset = wdataset.drop(train_dataset.index)\n",
        "# Now we create a dataset and delete any item that sample() picked so we are left with our unique test_dataset\n",
        "\n",
        "# Always check if a manipulation did what you expected it to do.\n",
        "train_dataset.shape\n",
        "\n",
        "# 3918 is 80.00816826628548% of 4897, so we successfuly split our dataset in training and testing data using a 80:20 ratio."
      ],
      "execution_count": null,
      "outputs": [
        {
          "output_type": "execute_result",
          "data": {
            "text/plain": [
              "(3918, 12)"
            ]
          },
          "metadata": {
            "tags": []
          },
          "execution_count": 7
        }
      ]
    },
    {
      "cell_type": "markdown",
      "metadata": {
        "id": "NhqYGg2KkHpw"
      },
      "source": [
        "### Single Input \n",
        "Just like in the manual regression example above, we have two inputs. In this case we want to predict the amount of alcohol contained by establishing a relationship to the pH level."
      ]
    },
    {
      "cell_type": "markdown",
      "metadata": {
        "id": "RHmZkcRGjwkX"
      },
      "source": [
        "#### Label creation"
      ]
    },
    {
      "cell_type": "code",
      "metadata": {
        "colab": {
          "base_uri": "https://localhost:8080/",
          "height": 426
        },
        "id": "J_jZLZxXTdh8",
        "outputId": "bd7ad16f-0264-4950-d0b2-b4374d764296"
      },
      "source": [
        "# First we create a work copy so we don't have to modify our raw data.\n",
        "si_train_features = train_dataset.copy()\n",
        "si_test_features = test_dataset.copy()\n",
        "\n",
        "\n",
        "# Now we filter out the parameter we want our model to predict. Here I settle on 'alcohol' but you can choose any label you like.\n",
        "# Of course we have to do this in both datasets.\n",
        "si_train_labels = si_train_features.pop('alcohol')\n",
        "si_test_labels = si_test_features.pop('alcohol')\n",
        "\n",
        "# Let's take a look at our data again.\n",
        "train_dataset.describe().transpose()[['mean', 'std']]\n",
        "\n",
        "# Upon closer inspection we see that the values are in a mean rage (0.04-137.7).\n",
        "# This rather large range might \"confuse\" our model, so we have to apply some 'normalization'"
      ],
      "execution_count": null,
      "outputs": [
        {
          "output_type": "execute_result",
          "data": {
            "text/html": [
              "<div>\n",
              "<style scoped>\n",
              "    .dataframe tbody tr th:only-of-type {\n",
              "        vertical-align: middle;\n",
              "    }\n",
              "\n",
              "    .dataframe tbody tr th {\n",
              "        vertical-align: top;\n",
              "    }\n",
              "\n",
              "    .dataframe thead th {\n",
              "        text-align: right;\n",
              "    }\n",
              "</style>\n",
              "<table border=\"1\" class=\"dataframe\">\n",
              "  <thead>\n",
              "    <tr style=\"text-align: right;\">\n",
              "      <th></th>\n",
              "      <th>mean</th>\n",
              "      <th>std</th>\n",
              "    </tr>\n",
              "  </thead>\n",
              "  <tbody>\n",
              "    <tr>\n",
              "      <th>fixed acidity</th>\n",
              "      <td>6.858754</td>\n",
              "      <td>0.855479</td>\n",
              "    </tr>\n",
              "    <tr>\n",
              "      <th>volatile acidity</th>\n",
              "      <td>0.278278</td>\n",
              "      <td>0.100173</td>\n",
              "    </tr>\n",
              "    <tr>\n",
              "      <th>citric acid</th>\n",
              "      <td>0.334722</td>\n",
              "      <td>0.122170</td>\n",
              "    </tr>\n",
              "    <tr>\n",
              "      <th>residual sugar</th>\n",
              "      <td>6.380028</td>\n",
              "      <td>5.057262</td>\n",
              "    </tr>\n",
              "    <tr>\n",
              "      <th>chlorides</th>\n",
              "      <td>0.045709</td>\n",
              "      <td>0.022408</td>\n",
              "    </tr>\n",
              "    <tr>\n",
              "      <th>free sulfur dioxide</th>\n",
              "      <td>35.172282</td>\n",
              "      <td>17.139453</td>\n",
              "    </tr>\n",
              "    <tr>\n",
              "      <th>total sulfur dioxide</th>\n",
              "      <td>137.688999</td>\n",
              "      <td>42.577736</td>\n",
              "    </tr>\n",
              "    <tr>\n",
              "      <th>density</th>\n",
              "      <td>0.994021</td>\n",
              "      <td>0.002987</td>\n",
              "    </tr>\n",
              "    <tr>\n",
              "      <th>pH</th>\n",
              "      <td>3.187412</td>\n",
              "      <td>0.151155</td>\n",
              "    </tr>\n",
              "    <tr>\n",
              "      <th>sulphates</th>\n",
              "      <td>0.489104</td>\n",
              "      <td>0.114159</td>\n",
              "    </tr>\n",
              "    <tr>\n",
              "      <th>alcohol</th>\n",
              "      <td>10.516563</td>\n",
              "      <td>1.230119</td>\n",
              "    </tr>\n",
              "    <tr>\n",
              "      <th>quality</th>\n",
              "      <td>5.877999</td>\n",
              "      <td>0.888138</td>\n",
              "    </tr>\n",
              "  </tbody>\n",
              "</table>\n",
              "</div>"
            ],
            "text/plain": [
              "                            mean        std\n",
              "fixed acidity           6.858754   0.855479\n",
              "volatile acidity        0.278278   0.100173\n",
              "citric acid             0.334722   0.122170\n",
              "residual sugar          6.380028   5.057262\n",
              "chlorides               0.045709   0.022408\n",
              "free sulfur dioxide    35.172282  17.139453\n",
              "total sulfur dioxide  137.688999  42.577736\n",
              "density                 0.994021   0.002987\n",
              "pH                      3.187412   0.151155\n",
              "sulphates               0.489104   0.114159\n",
              "alcohol                10.516563   1.230119\n",
              "quality                 5.877999   0.888138"
            ]
          },
          "metadata": {
            "tags": []
          },
          "execution_count": 8
        }
      ]
    },
    {
      "cell_type": "markdown",
      "metadata": {
        "id": "DCPCmKAKn2t1"
      },
      "source": [
        "#### Model architecture\n",
        "\n",
        "Here we define the structure of our model. We tell keras to build a sequential model (as opposed to a recurring model) and add 3 layers:\n",
        "- normalization\n",
        "- dense\n",
        "- dense"
      ]
    },
    {
      "cell_type": "code",
      "metadata": {
        "colab": {
          "base_uri": "https://localhost:8080/"
        },
        "id": "y-_xjBNfcQFN",
        "outputId": "edb29a1f-494c-44ae-8451-637d6d01f5bd"
      },
      "source": [
        "# Create a simple model for linear regression\n",
        "# First we appy normalization to our feature\n",
        "pH = np.array(si_train_features['pH'])\n",
        "pH_normalizer = preprocessing.Normalization(input_shape=[1,])\n",
        "pH_normalizer.adapt(pH)\n",
        "\n",
        "# Then we can build our model\n",
        "pH_model = tf.keras.Sequential([\n",
        "    pH_normalizer,\n",
        "    layers.Dense(units=1, activation='linear'),\n",
        "    layers.Dense(units=1, activation='linear')\n",
        "])\n",
        "\n",
        "pH_model.summary()"
      ],
      "execution_count": null,
      "outputs": [
        {
          "output_type": "stream",
          "text": [
            "Model: \"sequential_9\"\n",
            "_________________________________________________________________\n",
            "Layer (type)                 Output Shape              Param #   \n",
            "=================================================================\n",
            "normalization_10 (Normalizat (None, 1)                 3         \n",
            "_________________________________________________________________\n",
            "dense_15 (Dense)             (None, 1)                 2         \n",
            "_________________________________________________________________\n",
            "dense_16 (Dense)             (None, 1)                 2         \n",
            "=================================================================\n",
            "Total params: 7\n",
            "Trainable params: 4\n",
            "Non-trainable params: 3\n",
            "_________________________________________________________________\n"
          ],
          "name": "stdout"
        }
      ]
    },
    {
      "cell_type": "markdown",
      "metadata": {
        "id": "rSiqaCtRlEu5"
      },
      "source": [
        "#### Model compilation and training"
      ]
    },
    {
      "cell_type": "code",
      "metadata": {
        "colab": {
          "base_uri": "https://localhost:8080/"
        },
        "id": "_wO4-WHsewTR",
        "outputId": "a2a775cf-d024-475e-ef17-06d078b6559a"
      },
      "source": [
        "# Now we can tell TensorFlow to compile our model. This is necessary as TensorFlow is written in C++, we are only using Python as an abstraction on top.\n",
        "# This is also the time to specify our desired optimizer and loss function.\n",
        "# The learning rate defines the size of adjustment steps made during training.\n",
        "pH_model.compile(\n",
        "    optimizer=tf.optimizers.Adam(learning_rate=0.01),\n",
        "    loss='mean_absolute_error')\n",
        "\n",
        "# We can let keras monitor the leaning process and stop it early if the model does not improve.\n",
        "es = EarlyStopping(monitor='val_loss', verbose=1, patience=50)\n",
        "\n",
        "# model.fit() tells TensorFlow to start training. We just have to pass our features and labels to it.\n",
        "history = pH_model.fit(\n",
        "    # pass features and labels as input\n",
        "    si_train_features['pH'], si_train_labels,\n",
        "    # how often should the model go through the dataset\n",
        "    epochs=200,\n",
        "    # show trainig steps\n",
        "    verbose=1,\n",
        "    # add early stopping capability\n",
        "    callbacks=[es],\n",
        "    # Calculate validation results on 90% of the training data\n",
        "    validation_split = 0.9)\n"
      ],
      "execution_count": null,
      "outputs": [
        {
          "output_type": "stream",
          "text": [
            "Epoch 1/200\n",
            "13/13 [==============================] - 1s 23ms/step - loss: 10.5802 - val_loss: 10.3045\n",
            "Epoch 2/200\n",
            "13/13 [==============================] - 0s 27ms/step - loss: 10.3075 - val_loss: 10.1083\n",
            "Epoch 3/200\n",
            "13/13 [==============================] - 0s 14ms/step - loss: 10.2384 - val_loss: 9.8981\n",
            "Epoch 4/200\n",
            "13/13 [==============================] - 0s 14ms/step - loss: 9.9370 - val_loss: 9.6347\n",
            "Epoch 5/200\n",
            "13/13 [==============================] - 0s 14ms/step - loss: 9.8106 - val_loss: 9.3133\n",
            "Epoch 6/200\n",
            "13/13 [==============================] - 0s 15ms/step - loss: 9.3952 - val_loss: 8.9194\n",
            "Epoch 7/200\n",
            "13/13 [==============================] - 0s 14ms/step - loss: 8.9916 - val_loss: 8.4411\n",
            "Epoch 8/200\n",
            "13/13 [==============================] - 0s 14ms/step - loss: 8.4713 - val_loss: 7.8736\n",
            "Epoch 9/200\n",
            "13/13 [==============================] - 0s 14ms/step - loss: 7.7803 - val_loss: 7.2038\n",
            "Epoch 10/200\n",
            "13/13 [==============================] - 0s 14ms/step - loss: 7.2882 - val_loss: 6.4305\n",
            "Epoch 11/200\n",
            "13/13 [==============================] - 0s 15ms/step - loss: 6.4195 - val_loss: 5.5554\n",
            "Epoch 12/200\n",
            "13/13 [==============================] - 0s 14ms/step - loss: 5.5620 - val_loss: 4.5977\n",
            "Epoch 13/200\n",
            "13/13 [==============================] - 0s 14ms/step - loss: 4.6757 - val_loss: 3.5914\n",
            "Epoch 14/200\n",
            "13/13 [==============================] - 0s 14ms/step - loss: 3.5412 - val_loss: 2.5624\n",
            "Epoch 15/200\n",
            "13/13 [==============================] - 0s 13ms/step - loss: 2.5784 - val_loss: 1.5824\n",
            "Epoch 16/200\n",
            "13/13 [==============================] - 0s 14ms/step - loss: 1.4895 - val_loss: 1.0299\n",
            "Epoch 17/200\n",
            "13/13 [==============================] - 0s 15ms/step - loss: 1.0500 - val_loss: 1.0620\n",
            "Epoch 18/200\n",
            "13/13 [==============================] - 0s 14ms/step - loss: 1.0852 - val_loss: 1.0656\n",
            "Epoch 19/200\n",
            "13/13 [==============================] - 0s 14ms/step - loss: 1.0439 - val_loss: 1.0413\n",
            "Epoch 20/200\n",
            "13/13 [==============================] - 0s 14ms/step - loss: 1.0272 - val_loss: 1.0265\n",
            "Epoch 21/200\n",
            "13/13 [==============================] - 0s 14ms/step - loss: 1.0886 - val_loss: 1.0232\n",
            "Epoch 22/200\n",
            "13/13 [==============================] - 0s 14ms/step - loss: 1.0886 - val_loss: 1.0157\n",
            "Epoch 23/200\n",
            "13/13 [==============================] - 0s 14ms/step - loss: 1.0211 - val_loss: 1.0145\n",
            "Epoch 24/200\n",
            "13/13 [==============================] - 0s 13ms/step - loss: 1.0562 - val_loss: 1.0225\n",
            "Epoch 25/200\n",
            "13/13 [==============================] - 0s 14ms/step - loss: 1.0627 - val_loss: 1.0211\n",
            "Epoch 26/200\n",
            "13/13 [==============================] - 0s 14ms/step - loss: 1.0927 - val_loss: 1.0217\n",
            "Epoch 27/200\n",
            "13/13 [==============================] - 0s 14ms/step - loss: 1.0379 - val_loss: 1.0245\n",
            "Epoch 28/200\n",
            "13/13 [==============================] - 0s 14ms/step - loss: 1.0671 - val_loss: 1.0254\n",
            "Epoch 29/200\n",
            "13/13 [==============================] - 0s 14ms/step - loss: 1.0373 - val_loss: 1.0281\n",
            "Epoch 30/200\n",
            "13/13 [==============================] - 0s 14ms/step - loss: 1.0850 - val_loss: 1.0302\n",
            "Epoch 31/200\n",
            "13/13 [==============================] - 0s 13ms/step - loss: 1.0263 - val_loss: 1.0236\n",
            "Epoch 32/200\n",
            "13/13 [==============================] - 0s 14ms/step - loss: 1.0360 - val_loss: 1.0153\n",
            "Epoch 33/200\n",
            "13/13 [==============================] - 0s 13ms/step - loss: 1.0444 - val_loss: 1.0141\n",
            "Epoch 34/200\n",
            "13/13 [==============================] - 0s 13ms/step - loss: 1.0564 - val_loss: 1.0259\n",
            "Epoch 35/200\n",
            "13/13 [==============================] - 0s 14ms/step - loss: 1.0169 - val_loss: 1.0212\n",
            "Epoch 36/200\n",
            "13/13 [==============================] - 0s 14ms/step - loss: 1.0184 - val_loss: 1.0206\n",
            "Epoch 37/200\n",
            "13/13 [==============================] - 0s 15ms/step - loss: 1.0752 - val_loss: 1.0181\n",
            "Epoch 38/200\n",
            "13/13 [==============================] - 0s 14ms/step - loss: 1.0479 - val_loss: 1.0150\n",
            "Epoch 39/200\n",
            "13/13 [==============================] - 0s 15ms/step - loss: 1.0561 - val_loss: 1.0158\n",
            "Epoch 40/200\n",
            "13/13 [==============================] - 0s 14ms/step - loss: 1.0507 - val_loss: 1.0273\n",
            "Epoch 41/200\n",
            "13/13 [==============================] - 0s 15ms/step - loss: 1.0815 - val_loss: 1.0378\n",
            "Epoch 42/200\n",
            "13/13 [==============================] - 0s 14ms/step - loss: 1.1078 - val_loss: 1.0365\n",
            "Epoch 43/200\n",
            "13/13 [==============================] - 0s 14ms/step - loss: 1.0813 - val_loss: 1.0241\n",
            "Epoch 44/200\n",
            "13/13 [==============================] - 0s 14ms/step - loss: 1.0791 - val_loss: 1.0248\n",
            "Epoch 45/200\n",
            "13/13 [==============================] - 0s 14ms/step - loss: 1.0512 - val_loss: 1.0277\n",
            "Epoch 46/200\n",
            "13/13 [==============================] - 0s 14ms/step - loss: 1.0305 - val_loss: 1.0348\n",
            "Epoch 47/200\n",
            "13/13 [==============================] - 0s 14ms/step - loss: 1.0677 - val_loss: 1.0314\n",
            "Epoch 48/200\n",
            "13/13 [==============================] - 0s 14ms/step - loss: 1.1025 - val_loss: 1.0154\n",
            "Epoch 49/200\n",
            "13/13 [==============================] - 0s 14ms/step - loss: 1.0616 - val_loss: 1.0160\n",
            "Epoch 50/200\n",
            "13/13 [==============================] - 0s 14ms/step - loss: 1.1416 - val_loss: 1.0258\n",
            "Epoch 51/200\n",
            "13/13 [==============================] - 0s 14ms/step - loss: 1.0034 - val_loss: 1.0221\n",
            "Epoch 52/200\n",
            "13/13 [==============================] - 0s 15ms/step - loss: 1.0545 - val_loss: 1.0252\n",
            "Epoch 53/200\n",
            "13/13 [==============================] - 0s 14ms/step - loss: 1.0429 - val_loss: 1.0398\n",
            "Epoch 54/200\n",
            "13/13 [==============================] - 0s 14ms/step - loss: 1.0570 - val_loss: 1.0316\n",
            "Epoch 55/200\n",
            "13/13 [==============================] - 0s 14ms/step - loss: 1.0628 - val_loss: 1.0233\n",
            "Epoch 56/200\n",
            "13/13 [==============================] - 0s 14ms/step - loss: 1.0555 - val_loss: 1.0215\n",
            "Epoch 57/200\n",
            "13/13 [==============================] - 0s 14ms/step - loss: 1.0215 - val_loss: 1.0204\n",
            "Epoch 58/200\n",
            "13/13 [==============================] - 0s 15ms/step - loss: 1.0551 - val_loss: 1.0287\n",
            "Epoch 59/200\n",
            "13/13 [==============================] - 0s 14ms/step - loss: 1.0318 - val_loss: 1.0325\n",
            "Epoch 60/200\n",
            "13/13 [==============================] - 0s 14ms/step - loss: 1.0699 - val_loss: 1.0247\n",
            "Epoch 61/200\n",
            "13/13 [==============================] - 0s 14ms/step - loss: 1.0865 - val_loss: 1.0200\n",
            "Epoch 62/200\n",
            "13/13 [==============================] - 0s 14ms/step - loss: 1.0169 - val_loss: 1.0136\n",
            "Epoch 63/200\n",
            "13/13 [==============================] - 0s 15ms/step - loss: 1.0254 - val_loss: 1.0234\n",
            "Epoch 64/200\n",
            "13/13 [==============================] - 0s 15ms/step - loss: 1.0719 - val_loss: 1.0359\n",
            "Epoch 65/200\n",
            "13/13 [==============================] - 0s 14ms/step - loss: 1.0146 - val_loss: 1.0261\n",
            "Epoch 66/200\n",
            "13/13 [==============================] - 0s 14ms/step - loss: 1.1211 - val_loss: 1.0153\n",
            "Epoch 67/200\n",
            "13/13 [==============================] - 0s 14ms/step - loss: 1.0757 - val_loss: 1.0176\n",
            "Epoch 68/200\n",
            "13/13 [==============================] - 0s 14ms/step - loss: 1.0874 - val_loss: 1.0211\n",
            "Epoch 69/200\n",
            "13/13 [==============================] - 0s 15ms/step - loss: 1.0787 - val_loss: 1.0239\n",
            "Epoch 70/200\n",
            "13/13 [==============================] - 0s 15ms/step - loss: 1.0490 - val_loss: 1.0259\n",
            "Epoch 71/200\n",
            "13/13 [==============================] - 0s 14ms/step - loss: 1.1254 - val_loss: 1.0228\n",
            "Epoch 72/200\n",
            "13/13 [==============================] - 0s 14ms/step - loss: 1.0621 - val_loss: 1.0171\n",
            "Epoch 73/200\n",
            "13/13 [==============================] - 0s 14ms/step - loss: 1.0521 - val_loss: 1.0200\n",
            "Epoch 74/200\n",
            "13/13 [==============================] - 0s 14ms/step - loss: 1.0535 - val_loss: 1.0249\n",
            "Epoch 75/200\n",
            "13/13 [==============================] - 0s 14ms/step - loss: 1.0608 - val_loss: 1.0235\n",
            "Epoch 76/200\n",
            "13/13 [==============================] - 0s 13ms/step - loss: 1.0615 - val_loss: 1.0261\n",
            "Epoch 77/200\n",
            "13/13 [==============================] - 0s 14ms/step - loss: 1.0733 - val_loss: 1.0241\n",
            "Epoch 78/200\n",
            "13/13 [==============================] - 0s 14ms/step - loss: 1.0456 - val_loss: 1.0223\n",
            "Epoch 79/200\n",
            "13/13 [==============================] - 0s 15ms/step - loss: 1.0763 - val_loss: 1.0281\n",
            "Epoch 80/200\n",
            "13/13 [==============================] - 0s 14ms/step - loss: 1.0786 - val_loss: 1.0313\n",
            "Epoch 81/200\n",
            "13/13 [==============================] - 0s 14ms/step - loss: 1.0596 - val_loss: 1.0326\n",
            "Epoch 82/200\n",
            "13/13 [==============================] - 0s 14ms/step - loss: 1.0243 - val_loss: 1.0294\n",
            "Epoch 83/200\n",
            "13/13 [==============================] - 0s 14ms/step - loss: 1.0378 - val_loss: 1.0358\n",
            "Epoch 84/200\n",
            "13/13 [==============================] - 0s 14ms/step - loss: 1.0636 - val_loss: 1.0255\n",
            "Epoch 85/200\n",
            "13/13 [==============================] - 0s 14ms/step - loss: 1.0468 - val_loss: 1.0262\n",
            "Epoch 86/200\n",
            "13/13 [==============================] - 0s 14ms/step - loss: 1.0378 - val_loss: 1.0211\n",
            "Epoch 87/200\n",
            "13/13 [==============================] - 0s 14ms/step - loss: 1.0637 - val_loss: 1.0346\n",
            "Epoch 88/200\n",
            "13/13 [==============================] - 0s 14ms/step - loss: 1.0414 - val_loss: 1.0244\n",
            "Epoch 89/200\n",
            "13/13 [==============================] - 0s 14ms/step - loss: 1.0473 - val_loss: 1.0241\n",
            "Epoch 90/200\n",
            "13/13 [==============================] - 0s 14ms/step - loss: 1.0535 - val_loss: 1.0300\n",
            "Epoch 91/200\n",
            "13/13 [==============================] - 0s 14ms/step - loss: 1.0701 - val_loss: 1.0281\n",
            "Epoch 92/200\n",
            "13/13 [==============================] - 0s 15ms/step - loss: 1.0451 - val_loss: 1.0196\n",
            "Epoch 93/200\n",
            "13/13 [==============================] - 0s 14ms/step - loss: 1.1298 - val_loss: 1.0174\n",
            "Epoch 94/200\n",
            "13/13 [==============================] - 0s 14ms/step - loss: 1.0488 - val_loss: 1.0251\n",
            "Epoch 95/200\n",
            "13/13 [==============================] - 0s 14ms/step - loss: 1.1034 - val_loss: 1.0152\n",
            "Epoch 96/200\n",
            "13/13 [==============================] - 0s 14ms/step - loss: 1.0782 - val_loss: 1.0187\n",
            "Epoch 97/200\n",
            "13/13 [==============================] - 0s 13ms/step - loss: 1.0261 - val_loss: 1.0197\n",
            "Epoch 98/200\n",
            "13/13 [==============================] - 0s 14ms/step - loss: 1.0498 - val_loss: 1.0228\n",
            "Epoch 99/200\n",
            "13/13 [==============================] - 0s 14ms/step - loss: 1.0545 - val_loss: 1.0351\n",
            "Epoch 100/200\n",
            "13/13 [==============================] - 0s 14ms/step - loss: 1.0899 - val_loss: 1.0319\n",
            "Epoch 101/200\n",
            "13/13 [==============================] - 0s 14ms/step - loss: 1.0236 - val_loss: 1.0231\n",
            "Epoch 102/200\n",
            "13/13 [==============================] - 0s 14ms/step - loss: 1.0319 - val_loss: 1.0317\n",
            "Epoch 103/200\n",
            "13/13 [==============================] - 0s 14ms/step - loss: 1.0471 - val_loss: 1.0278\n",
            "Epoch 104/200\n",
            "13/13 [==============================] - 0s 14ms/step - loss: 1.0428 - val_loss: 1.0192\n",
            "Epoch 105/200\n",
            "13/13 [==============================] - 0s 15ms/step - loss: 1.0804 - val_loss: 1.0279\n",
            "Epoch 106/200\n",
            "13/13 [==============================] - 0s 14ms/step - loss: 1.0628 - val_loss: 1.0233\n",
            "Epoch 107/200\n",
            "13/13 [==============================] - 0s 14ms/step - loss: 1.0849 - val_loss: 1.0203\n",
            "Epoch 108/200\n",
            "13/13 [==============================] - 0s 14ms/step - loss: 1.0730 - val_loss: 1.0236\n",
            "Epoch 109/200\n",
            "13/13 [==============================] - 0s 14ms/step - loss: 1.0735 - val_loss: 1.0213\n",
            "Epoch 110/200\n",
            "13/13 [==============================] - 0s 15ms/step - loss: 1.0762 - val_loss: 1.0261\n",
            "Epoch 111/200\n",
            "13/13 [==============================] - 0s 14ms/step - loss: 1.0630 - val_loss: 1.0305\n",
            "Epoch 112/200\n",
            "13/13 [==============================] - 0s 14ms/step - loss: 1.0278 - val_loss: 1.0237\n",
            "Epoch 00112: early stopping\n"
          ],
          "name": "stdout"
        }
      ]
    },
    {
      "cell_type": "markdown",
      "metadata": {
        "id": "nrganFa0lJ47"
      },
      "source": [
        "#### Plot performance"
      ]
    },
    {
      "cell_type": "code",
      "metadata": {
        "colab": {
          "base_uri": "https://localhost:8080/",
          "height": 283
        },
        "id": "oHDEwjM1mWkS",
        "outputId": "01c969a3-1636-4c6e-e461-07deb85ec413"
      },
      "source": [
        "# Now we can plot our models learning process\n",
        "hist = pd.DataFrame(history.history)\n",
        "hist['epoch'] = history.epoch\n",
        "#hist.tail()\n",
        "def plot_loss(history):\n",
        "  plt.plot(history.history['loss'], label='loss')\n",
        "  plt.plot(history.history['val_loss'], label='val_loss')\n",
        "  plt.ylim([0, 10])\n",
        "  plt.xlabel('Epoch')\n",
        "  plt.ylabel('Error [pH]')\n",
        "  plt.legend()\n",
        "  plt.grid(True)\n",
        "plot_loss(history)\n"
      ],
      "execution_count": null,
      "outputs": [
        {
          "output_type": "display_data",
          "data": {
            "image/png": "[encoded data removed]",
            "text/plain": [
              "<Figure size 432x288 with 1 Axes>"
            ]
          },
          "metadata": {
            "tags": [],
            "needs_background": "light"
          }
        }
      ]
    },
    {
      "cell_type": "markdown",
      "metadata": {
        "id": "KM0Yu_o3d7Gp"
      },
      "source": [
        "##### Task 2: \n",
        "\n",
        "**Go back to the Model architecture and:**\n",
        "- compare the activation functions 'sigmoid', 'relu' and 'linear'\n",
        "- play with different amounts of 'dense' layers"
      ]
    },
    {
      "cell_type": "markdown",
      "metadata": {
        "id": "8W7B-RRaoDPK"
      },
      "source": [
        "### Multi Input Model"
      ]
    },
    {
      "cell_type": "markdown",
      "metadata": {
        "id": "qoWQnYvYlyD5"
      },
      "source": [
        "#### Label creation"
      ]
    },
    {
      "cell_type": "code",
      "metadata": {
        "id": "C4CWCIqxpdtB"
      },
      "source": [
        "mitrain_features = train_dataset.copy()\n",
        "mitest_features = test_dataset.copy()\n",
        "\n",
        "# Let's predict 'quality for a change'\n",
        "mitrain_labels = mitrain_features.pop('quality')\n",
        "mitest_labels = mitest_features.pop('quality')"
      ],
      "execution_count": null,
      "outputs": []
    },
    {
      "cell_type": "markdown",
      "metadata": {
        "id": "4nBFyYHHl0d5"
      },
      "source": [
        "#### Model architecture"
      ]
    },
    {
      "cell_type": "code",
      "metadata": {
        "colab": {
          "base_uri": "https://localhost:8080/"
        },
        "id": "eoAfTxGQoGH8",
        "outputId": "9a571905-03c0-4119-d57c-d68ee3afe979"
      },
      "source": [
        "# Create a simple model for linear regression\n",
        "# First we appy normalization to our whole dataset\n",
        "mi = np.array(mitrain_features)\n",
        "mi_normalizer = preprocessing.Normalization(input_shape=[1,])\n",
        "mi_normalizer.adapt(mi)\n",
        "\n",
        "# Then we can build our model\n",
        "mi_model = tf.keras.Sequential([\n",
        "    mi_normalizer,\n",
        "    layers.Dense(units=1, activation='relu'),\n",
        "    layers.Dense(units=1, activation='relu')\n",
        "])\n",
        "\n",
        "mi_model.summary()"
      ],
      "execution_count": null,
      "outputs": [
        {
          "output_type": "stream",
          "text": [
            "Model: \"sequential_14\"\n",
            "_________________________________________________________________\n",
            "Layer (type)                 Output Shape              Param #   \n",
            "=================================================================\n",
            "normalization_15 (Normalizat (None, 11)                23        \n",
            "_________________________________________________________________\n",
            "dense_25 (Dense)             (None, 1)                 12        \n",
            "_________________________________________________________________\n",
            "dense_26 (Dense)             (None, 1)                 2         \n",
            "=================================================================\n",
            "Total params: 37\n",
            "Trainable params: 14\n",
            "Non-trainable params: 23\n",
            "_________________________________________________________________\n"
          ],
          "name": "stdout"
        }
      ]
    },
    {
      "cell_type": "markdown",
      "metadata": {
        "id": "949p7m16l489"
      },
      "source": [
        "#### Model compilation and training"
      ]
    },
    {
      "cell_type": "code",
      "metadata": {
        "colab": {
          "base_uri": "https://localhost:8080/"
        },
        "id": "uaNfRvrPoaCs",
        "outputId": "c8c395f5-d60f-4f85-cc33-61049c39c014"
      },
      "source": [
        "mi_model.compile(\n",
        "    optimizer=tf.optimizers.Adam(learning_rate=0.1),\n",
        "    loss='mean_absolute_error')\n",
        "es = EarlyStopping(monitor='val_loss', verbose=1, patience=50)\n",
        "history = mi_model.fit(\n",
        "    # notice that this time we pass all labels and features to the model\n",
        "    mitrain_features, mitrain_labels,\n",
        "    epochs=200,\n",
        "    verbose=1,\n",
        "    callbacks=[es],\n",
        "    validation_split = 0.9)\n"
      ],
      "execution_count": null,
      "outputs": [
        {
          "output_type": "stream",
          "text": [
            "Epoch 1/200\n",
            "WARNING:tensorflow:Model was constructed with shape (None, 1) for input KerasTensor(type_spec=TensorSpec(shape=(None, 1), dtype=tf.float32, name='normalization_15_input'), name='normalization_15_input', description=\"created by layer 'normalization_15_input'\"), but it was called on an input with incompatible shape (None, 11).\n",
            "WARNING:tensorflow:Model was constructed with shape (None, 1) for input KerasTensor(type_spec=TensorSpec(shape=(None, 1), dtype=tf.float32, name='normalization_15_input'), name='normalization_15_input', description=\"created by layer 'normalization_15_input'\"), but it was called on an input with incompatible shape (None, 11).\n",
            " 1/13 [=>............................] - ETA: 3s - loss: 5.9089WARNING:tensorflow:Model was constructed with shape (None, 1) for input KerasTensor(type_spec=TensorSpec(shape=(None, 1), dtype=tf.float32, name='normalization_15_input'), name='normalization_15_input', description=\"created by layer 'normalization_15_input'\"), but it was called on an input with incompatible shape (None, 11).\n",
            "13/13 [==============================] - 1s 23ms/step - loss: 4.9207 - val_loss: 3.4063\n",
            "Epoch 2/200\n",
            "13/13 [==============================] - 0s 14ms/step - loss: 3.0423 - val_loss: 2.0461\n",
            "Epoch 3/200\n",
            "13/13 [==============================] - 0s 14ms/step - loss: 1.7009 - val_loss: 0.9641\n",
            "Epoch 4/200\n",
            "13/13 [==============================] - 0s 14ms/step - loss: 1.0035 - val_loss: 0.6220\n",
            "Epoch 5/200\n",
            "13/13 [==============================] - 0s 15ms/step - loss: 0.7127 - val_loss: 0.6749\n",
            "Epoch 6/200\n",
            "13/13 [==============================] - 0s 14ms/step - loss: 0.7231 - val_loss: 0.6108\n",
            "Epoch 7/200\n",
            "13/13 [==============================] - 0s 13ms/step - loss: 0.6544 - val_loss: 0.6113\n",
            "Epoch 8/200\n",
            "13/13 [==============================] - 0s 14ms/step - loss: 0.6754 - val_loss: 0.5942\n",
            "Epoch 9/200\n",
            "13/13 [==============================] - 0s 14ms/step - loss: 0.6497 - val_loss: 0.6537\n",
            "Epoch 10/200\n",
            "13/13 [==============================] - 0s 14ms/step - loss: 0.6582 - val_loss: 0.5939\n",
            "Epoch 11/200\n",
            "13/13 [==============================] - 0s 14ms/step - loss: 0.6319 - val_loss: 0.6016\n",
            "Epoch 12/200\n",
            "13/13 [==============================] - 0s 14ms/step - loss: 0.6787 - val_loss: 0.5970\n",
            "Epoch 13/200\n",
            "13/13 [==============================] - 0s 14ms/step - loss: 0.6587 - val_loss: 0.5908\n",
            "Epoch 14/200\n",
            "13/13 [==============================] - 0s 14ms/step - loss: 0.6047 - val_loss: 0.6688\n",
            "Epoch 15/200\n",
            "13/13 [==============================] - 0s 14ms/step - loss: 0.6488 - val_loss: 0.5962\n",
            "Epoch 16/200\n",
            "13/13 [==============================] - 0s 14ms/step - loss: 0.6765 - val_loss: 0.6486\n",
            "Epoch 17/200\n",
            "13/13 [==============================] - 0s 14ms/step - loss: 0.6987 - val_loss: 0.5901\n",
            "Epoch 18/200\n",
            "13/13 [==============================] - 0s 14ms/step - loss: 0.6658 - val_loss: 0.6387\n",
            "Epoch 19/200\n",
            "13/13 [==============================] - 0s 14ms/step - loss: 0.6732 - val_loss: 0.6044\n",
            "Epoch 20/200\n",
            "13/13 [==============================] - 0s 15ms/step - loss: 0.6835 - val_loss: 0.5915\n",
            "Epoch 21/200\n",
            "13/13 [==============================] - 0s 14ms/step - loss: 0.6495 - val_loss: 0.6087\n",
            "Epoch 22/200\n",
            "13/13 [==============================] - 0s 14ms/step - loss: 0.6699 - val_loss: 0.5881\n",
            "Epoch 23/200\n",
            "13/13 [==============================] - 0s 14ms/step - loss: 0.6474 - val_loss: 0.6143\n",
            "Epoch 24/200\n",
            "13/13 [==============================] - 0s 14ms/step - loss: 0.6624 - val_loss: 0.5837\n",
            "Epoch 25/200\n",
            "13/13 [==============================] - 0s 14ms/step - loss: 0.6340 - val_loss: 0.6398\n",
            "Epoch 26/200\n",
            "13/13 [==============================] - 0s 14ms/step - loss: 0.6792 - val_loss: 0.5977\n",
            "Epoch 27/200\n",
            "13/13 [==============================] - 0s 15ms/step - loss: 0.6526 - val_loss: 0.5831\n",
            "Epoch 28/200\n",
            "13/13 [==============================] - 0s 15ms/step - loss: 0.6299 - val_loss: 0.5963\n",
            "Epoch 29/200\n",
            "13/13 [==============================] - 0s 14ms/step - loss: 0.6447 - val_loss: 0.5924\n",
            "Epoch 30/200\n",
            "13/13 [==============================] - 0s 14ms/step - loss: 0.6408 - val_loss: 0.6165\n",
            "Epoch 31/200\n",
            "13/13 [==============================] - 0s 14ms/step - loss: 0.6786 - val_loss: 0.5933\n",
            "Epoch 32/200\n",
            "13/13 [==============================] - 0s 14ms/step - loss: 0.6374 - val_loss: 0.5995\n",
            "Epoch 33/200\n",
            "13/13 [==============================] - 0s 14ms/step - loss: 0.6629 - val_loss: 0.5811\n",
            "Epoch 34/200\n",
            "13/13 [==============================] - 0s 14ms/step - loss: 0.6334 - val_loss: 0.6254\n",
            "Epoch 35/200\n",
            "13/13 [==============================] - 0s 14ms/step - loss: 0.6753 - val_loss: 0.5824\n",
            "Epoch 36/200\n",
            "13/13 [==============================] - 0s 14ms/step - loss: 0.5906 - val_loss: 0.5856\n",
            "Epoch 37/200\n",
            "13/13 [==============================] - 0s 14ms/step - loss: 0.6210 - val_loss: 0.5994\n",
            "Epoch 38/200\n",
            "13/13 [==============================] - 0s 14ms/step - loss: 0.6580 - val_loss: 0.5941\n",
            "Epoch 39/200\n",
            "13/13 [==============================] - 0s 14ms/step - loss: 0.6151 - val_loss: 0.6002\n",
            "Epoch 40/200\n",
            "13/13 [==============================] - 0s 14ms/step - loss: 0.6411 - val_loss: 0.5994\n",
            "Epoch 41/200\n",
            "13/13 [==============================] - 0s 14ms/step - loss: 0.6762 - val_loss: 0.5875\n",
            "Epoch 42/200\n",
            "13/13 [==============================] - 0s 14ms/step - loss: 0.6411 - val_loss: 0.5977\n",
            "Epoch 43/200\n",
            "13/13 [==============================] - 0s 16ms/step - loss: 0.6539 - val_loss: 0.6449\n",
            "Epoch 44/200\n",
            "13/13 [==============================] - 0s 14ms/step - loss: 0.6732 - val_loss: 0.6246\n",
            "Epoch 45/200\n",
            "13/13 [==============================] - 0s 15ms/step - loss: 0.6356 - val_loss: 0.6188\n",
            "Epoch 46/200\n",
            "13/13 [==============================] - 0s 14ms/step - loss: 0.6538 - val_loss: 0.5988\n",
            "Epoch 47/200\n",
            "13/13 [==============================] - 0s 14ms/step - loss: 0.6498 - val_loss: 0.6047\n",
            "Epoch 48/200\n",
            "13/13 [==============================] - 0s 14ms/step - loss: 0.6406 - val_loss: 0.5916\n",
            "Epoch 49/200\n",
            "13/13 [==============================] - 0s 14ms/step - loss: 0.6342 - val_loss: 0.5944\n",
            "Epoch 50/200\n",
            "13/13 [==============================] - 0s 14ms/step - loss: 0.6539 - val_loss: 0.6086\n",
            "Epoch 51/200\n",
            "13/13 [==============================] - 0s 15ms/step - loss: 0.6226 - val_loss: 0.6031\n",
            "Epoch 52/200\n",
            "13/13 [==============================] - 0s 14ms/step - loss: 0.6138 - val_loss: 0.6086\n",
            "Epoch 53/200\n",
            "13/13 [==============================] - 0s 14ms/step - loss: 0.6652 - val_loss: 0.5912\n",
            "Epoch 54/200\n",
            "13/13 [==============================] - 0s 14ms/step - loss: 0.5962 - val_loss: 0.5875\n",
            "Epoch 55/200\n",
            "13/13 [==============================] - 0s 14ms/step - loss: 0.6487 - val_loss: 0.6090\n",
            "Epoch 56/200\n",
            "13/13 [==============================] - 0s 14ms/step - loss: 0.6678 - val_loss: 0.5921\n",
            "Epoch 57/200\n",
            "13/13 [==============================] - 0s 14ms/step - loss: 0.6258 - val_loss: 0.5974\n",
            "Epoch 58/200\n",
            "13/13 [==============================] - 0s 14ms/step - loss: 0.6286 - val_loss: 0.5896\n",
            "Epoch 59/200\n",
            "13/13 [==============================] - 0s 14ms/step - loss: 0.6391 - val_loss: 0.6568\n",
            "Epoch 60/200\n",
            "13/13 [==============================] - 0s 14ms/step - loss: 0.6977 - val_loss: 0.5946\n",
            "Epoch 61/200\n",
            "13/13 [==============================] - 0s 14ms/step - loss: 0.6452 - val_loss: 0.6120\n",
            "Epoch 62/200\n",
            "13/13 [==============================] - 0s 14ms/step - loss: 0.5940 - val_loss: 0.6375\n",
            "Epoch 63/200\n",
            "13/13 [==============================] - 0s 14ms/step - loss: 0.6929 - val_loss: 0.6036\n",
            "Epoch 64/200\n",
            "13/13 [==============================] - 0s 14ms/step - loss: 0.6826 - val_loss: 0.6533\n",
            "Epoch 65/200\n",
            "13/13 [==============================] - 0s 14ms/step - loss: 0.6883 - val_loss: 0.6732\n",
            "Epoch 66/200\n",
            "13/13 [==============================] - 0s 13ms/step - loss: 0.7133 - val_loss: 0.6010\n",
            "Epoch 67/200\n",
            "13/13 [==============================] - 0s 14ms/step - loss: 0.6435 - val_loss: 0.6730\n",
            "Epoch 68/200\n",
            "13/13 [==============================] - 0s 15ms/step - loss: 0.6626 - val_loss: 0.6033\n",
            "Epoch 69/200\n",
            "13/13 [==============================] - 0s 14ms/step - loss: 0.6545 - val_loss: 0.5967\n",
            "Epoch 70/200\n",
            "13/13 [==============================] - 0s 14ms/step - loss: 0.6067 - val_loss: 0.5950\n",
            "Epoch 71/200\n",
            "13/13 [==============================] - 0s 14ms/step - loss: 0.6536 - val_loss: 0.5961\n",
            "Epoch 72/200\n",
            "13/13 [==============================] - 0s 14ms/step - loss: 0.6392 - val_loss: 0.6144\n",
            "Epoch 73/200\n",
            "13/13 [==============================] - 0s 14ms/step - loss: 0.6619 - val_loss: 0.5916\n",
            "Epoch 74/200\n",
            "13/13 [==============================] - 0s 15ms/step - loss: 0.6346 - val_loss: 0.5996\n",
            "Epoch 75/200\n",
            "13/13 [==============================] - 0s 14ms/step - loss: 0.6595 - val_loss: 0.6072\n",
            "Epoch 76/200\n",
            "13/13 [==============================] - 0s 14ms/step - loss: 0.6659 - val_loss: 0.6176\n",
            "Epoch 77/200\n",
            "13/13 [==============================] - 0s 14ms/step - loss: 0.6397 - val_loss: 0.6186\n",
            "Epoch 78/200\n",
            "13/13 [==============================] - 0s 14ms/step - loss: 0.6154 - val_loss: 0.6055\n",
            "Epoch 79/200\n",
            "13/13 [==============================] - 0s 15ms/step - loss: 0.6258 - val_loss: 0.6021\n",
            "Epoch 80/200\n",
            "13/13 [==============================] - 0s 14ms/step - loss: 0.6652 - val_loss: 0.6570\n",
            "Epoch 81/200\n",
            "13/13 [==============================] - 0s 14ms/step - loss: 0.6885 - val_loss: 0.6133\n",
            "Epoch 82/200\n",
            "13/13 [==============================] - 0s 14ms/step - loss: 0.6517 - val_loss: 0.6147\n",
            "Epoch 83/200\n",
            "13/13 [==============================] - 0s 14ms/step - loss: 0.6420 - val_loss: 0.6039\n",
            "Epoch 00083: early stopping\n"
          ],
          "name": "stdout"
        }
      ]
    },
    {
      "cell_type": "markdown",
      "metadata": {
        "id": "dqane4uAmVWO"
      },
      "source": [
        "#### Plot performance "
      ]
    },
    {
      "cell_type": "code",
      "metadata": {
        "colab": {
          "base_uri": "https://localhost:8080/",
          "height": 283
        },
        "id": "22yrfXilqkTe",
        "outputId": "b3e9f0b1-c2e0-466d-82e0-c0410b97060c"
      },
      "source": [
        "# Now we can plot our models learning process\n",
        "hist = pd.DataFrame(history.history)\n",
        "hist['epoch'] = history.epoch\n",
        "#hist.tail()\n",
        "def plot_loss(history):\n",
        "  plt.plot(history.history['loss'], label='loss')\n",
        "  plt.plot(history.history['val_loss'], label='val_loss')\n",
        "  plt.ylim([0, 10])\n",
        "  plt.xlabel('Epoch')\n",
        "  plt.ylabel('Error')\n",
        "  plt.legend()\n",
        "  plt.grid(True)\n",
        "plot_loss(history)"
      ],
      "execution_count": null,
      "outputs": [
        {
          "output_type": "display_data",
          "data": {
            "image/png": "[encoded data removed]",
            "text/plain": [
              "<Figure size 432x288 with 1 Axes>"
            ]
          },
          "metadata": {
            "tags": [],
            "needs_background": "light"
          }
        }
      ]
    },
    {
      "cell_type": "markdown",
      "metadata": {
        "id": "51105v9Ygb7T"
      },
      "source": [
        "##### Task 3: \n",
        "\n",
        "**Go back to the Model architecture and:**\n",
        "- compare the activation functions 'sigmoid', 'relu' and 'linear'\n",
        "- play with different amounts of 'dense' layers"
      ]
    },
    {
      "cell_type": "markdown",
      "metadata": {
        "id": "S9eusH_Ejr3u"
      },
      "source": [
        "https://www.tensorflow.org/tutorials/keras/regression\n",
        "\n",
        "https://www.sciencedirect.com/science/article/abs/pii/S0167923609001377?via%3Dihub\n"
      ]
    },
    {
      "cell_type": "markdown",
      "metadata": {
        "id": "2Z_3F5j0pKRq"
      },
      "source": [
        "# Convolution\n",
        "\n",
        "The TensorFlow Website has excellent tutourials on CNN's\n",
        "\n",
        "Check out this beginner tutourial:\n",
        "\n",
        "https://www.tensorflow.org/hub/tutorials/tf2_image_retraining\n",
        "\n",
        "\n",
        "\n",
        "\n",
        "\n",
        "\n",
        "![](https://cdn02.nintendo-europe.com/media/images/10_share_images/games_15/nintendo_switch_download_software_1/H2x1_NSwitchDS_HereBeDragons.jpg)\n",
        "\n"
      ]
    }
  ]
}